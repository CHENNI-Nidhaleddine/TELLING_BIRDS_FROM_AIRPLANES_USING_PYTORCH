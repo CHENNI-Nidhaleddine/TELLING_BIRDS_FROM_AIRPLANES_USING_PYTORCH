{
  "nbformat": 4,
  "nbformat_minor": 0,
  "metadata": {
    "colab": {
      "name": "index.ipynb",
      "provenance": [],
      "authorship_tag": "ABX9TyNQlEJ9Ov4nDolNGUIwPrBj",
      "include_colab_link": true
    },
    "kernelspec": {
      "name": "python3",
      "display_name": "Python 3"
    },
    "language_info": {
      "name": "python"
    },
    "accelerator": "GPU",
    "gpuClass": "standard"
  },
  "cells": [
    {
      "cell_type": "markdown",
      "metadata": {
        "id": "view-in-github",
        "colab_type": "text"
      },
      "source": [
        "<a href=\"https://colab.research.google.com/github/CHENNI-Nidhaleddine/TELLING_BIRDS_FROM_AIRPLANES_USING_PYTORCH/blob/master/index.ipynb\" target=\"_parent\"><img src=\"https://colab.research.google.com/assets/colab-badge.svg\" alt=\"Open In Colab\"/></a>"
      ]
    },
    {
      "cell_type": "code",
      "execution_count": 77,
      "metadata": {
        "id": "yfnNbz3ljTZy"
      },
      "outputs": [],
      "source": [
        "import torch\n",
        "import numpy\n",
        "import torch.nn as nn\n",
        "import matplotlib.pyplot as plt\n",
        "from torchvision import datasets,transforms\n",
        "import torch.optim as optim"
      ]
    },
    {
      "cell_type": "markdown",
      "source": [
        "## Downloading the CIFAR-10 \n",
        "#### cifar-10 is a dateset that consists of 60.000 32x32 RGB images labeled with an integer corresponding to 1 of 10 classes: airplane (0), automobile (1), bird (2), cat (3),deer (4), dog (5), frog (6), horse (7), ship (8), and truck (9)."
      ],
      "metadata": {
        "id": "glvo0g6vm61R"
      }
    },
    {
      "cell_type": "code",
      "source": [
        "data_path = '../data'\n",
        "cifar10 = datasets.CIFAR10(data_path, train=True, download=True,transform=transforms.ToTensor())\n",
        "cifar10_val = datasets.CIFAR10(data_path, train=False, download=True,transform=transforms.ToTensor())\n",
        "class_names=[\"airplane\", \"automobile\" ,\"bird\", \"cat\",\"deer\", \"dog\", \"frog\" , \"horse\" , \"ship\", \"truck\"]"
      ],
      "metadata": {
        "colab": {
          "base_uri": "https://localhost:8080/"
        },
        "id": "GQO_hmguj4J-",
        "outputId": "b79d9990-362f-4110-aace-e18a83d765d6"
      },
      "execution_count": 78,
      "outputs": [
        {
          "output_type": "stream",
          "name": "stdout",
          "text": [
            "Files already downloaded and verified\n",
            "Files already downloaded and verified\n"
          ]
        }
      ]
    },
    {
      "cell_type": "code",
      "source": [
        "len(cifar10),len(cifar10_val),cifar10.__len__"
      ],
      "metadata": {
        "colab": {
          "base_uri": "https://localhost:8080/"
        },
        "id": "jDUYRnTHoamP",
        "outputId": "98718d9a-4ce3-4dff-f110-7d01c1df92e0"
      },
      "execution_count": 79,
      "outputs": [
        {
          "output_type": "execute_result",
          "data": {
            "text/plain": [
              "(50000, 10000, <bound method CIFAR10.__len__ of Dataset CIFAR10\n",
              "     Number of datapoints: 50000\n",
              "     Root location: ../data\n",
              "     Split: Train\n",
              "     StandardTransform\n",
              " Transform: ToTensor()>)"
            ]
          },
          "metadata": {},
          "execution_count": 79
        }
      ]
    },
    {
      "cell_type": "markdown",
      "source": [
        "##### Separate images from labels"
      ],
      "metadata": {
        "id": "K_EkmbrEvSPj"
      }
    },
    {
      "cell_type": "code",
      "source": [
        " all_imgs=torch.stack([img for img,_ in cifar10],dim=3)"
      ],
      "metadata": {
        "id": "zzGpyDsNHkXO"
      },
      "execution_count": 80,
      "outputs": []
    },
    {
      "cell_type": "markdown",
      "source": [
        "##### Some tests"
      ],
      "metadata": {
        "id": "yJ7AIG1nvgHr"
      }
    },
    {
      "cell_type": "code",
      "source": [
        "index=93\n",
        "plt.imshow(all_imgs[:,:,:,index].permute(1,2,0))\n",
        "print(class_names[cifar10[index][1]])"
      ],
      "metadata": {
        "id": "nybxnUjWut5Y",
        "outputId": "8e84ff61-e91c-4405-ee9a-cf6258c9a05c",
        "colab": {
          "base_uri": "https://localhost:8080/",
          "height": 283
        }
      },
      "execution_count": 81,
      "outputs": [
        {
          "output_type": "stream",
          "name": "stdout",
          "text": [
            "airplane\n"
          ]
        },
        {
          "output_type": "display_data",
          "data": {
            "text/plain": [
              "<Figure size 432x288 with 1 Axes>"
            ],
            "image/png": "[encoded data removed]"
          },
          "metadata": {
            "needs_background": "light"
          }
        }
      ]
    },
    {
      "cell_type": "markdown",
      "source": [
        "### Normalizing data"
      ],
      "metadata": {
        "id": "v_xGiSKMtU3_"
      }
    },
    {
      "cell_type": "code",
      "source": [
        "mean=all_imgs.view(3,-1).mean(dim=1)\n",
        "std=all_imgs.view(3,-1).std(dim=1)\n",
        "print(mean,std)\n",
        "transformed_cifar10=datasets.CIFAR10(data_path,train=True,download=False,transform=transforms.Compose([transforms.ToTensor(),transforms.Normalize(mean=mean,std=std)]))\n",
        "transformed_cifar10_val=datasets.CIFAR10(data_path,train=False,download=False,transform=transforms.Compose([transforms.ToTensor(),transforms.Normalize(mean=mean,std=std)]))"
      ],
      "metadata": {
        "id": "hnQ8EzVHtZq4",
        "outputId": "e2e4d6af-9d77-4168-af7f-c66e964ba3d0",
        "colab": {
          "base_uri": "https://localhost:8080/"
        }
      },
      "execution_count": 82,
      "outputs": [
        {
          "output_type": "stream",
          "name": "stdout",
          "text": [
            "tensor([0.4914, 0.4822, 0.4465]) tensor([0.2470, 0.2435, 0.2616])\n"
          ]
        }
      ]
    },
    {
      "cell_type": "markdown",
      "source": [
        "##### Some tests"
      ],
      "metadata": {
        "id": "2zkSERdWw_DU"
      }
    },
    {
      "cell_type": "code",
      "source": [
        "img_t,label=transformed_cifar10[index]\n",
        "plt.imshow(img_t.permute(1,2,0)),class_names[label]"
      ],
      "metadata": {
        "id": "0QUgG8XYxAys",
        "outputId": "6b7303b0-5367-4369-a108-9ae9b47a00a9",
        "colab": {
          "base_uri": "https://localhost:8080/",
          "height": 301
        }
      },
      "execution_count": 83,
      "outputs": [
        {
          "output_type": "stream",
          "name": "stderr",
          "text": [
            "WARNING:matplotlib.image:Clipping input data to the valid range for imshow with RGB data ([0..1] for floats or [0..255] for integers).\n"
          ]
        },
        {
          "output_type": "execute_result",
          "data": {
            "text/plain": [
              "(<matplotlib.image.AxesImage at 0x7f6eb2c260d0>, 'airplane')"
            ]
          },
          "metadata": {},
          "execution_count": 83
        },
        {
          "output_type": "display_data",
          "data": {
            "text/plain": [
              "<Figure size 432x288 with 1 Axes>"
            ],
            "image/png": "[encoded data removed]"
          },
          "metadata": {
            "needs_background": "light"
          }
        }
      ]
    },
    {
      "cell_type": "markdown",
      "source": [
        "### Extracting birds and airplanes data"
      ],
      "metadata": {
        "id": "PRlY8WLGx9qQ"
      }
    },
    {
      "cell_type": "code",
      "source": [
        "# class_names[0] --> airplane\n",
        "# class_names[2] --> bird\n",
        "labels=['airplane','bird']\n",
        "cifar2=[(img,4%(label+1)) for img,label in transformed_cifar10 if label in [0,2]]\n",
        "cifar2_val=[(img,4%(label+1)) for img,label in transformed_cifar10_val if label in [0,2]]"
      ],
      "metadata": {
        "id": "zCyIH6PKKAcj"
      },
      "execution_count": 84,
      "outputs": []
    },
    {
      "cell_type": "markdown",
      "source": [
        "##### Some tests:"
      ],
      "metadata": {
        "id": "JWOcowN90Xes"
      }
    },
    {
      "cell_type": "code",
      "source": [
        "index=35\n",
        "print(len(cifar2),len(cifar2_val))\n",
        "plt.imshow(cifar2[index][0].permute(1,2,0)),labels[cifar2[index][1]]"
      ],
      "metadata": {
        "id": "ro3Ol9jt0ax8",
        "outputId": "c937153d-0bab-456b-e64a-43f7997bc65a",
        "colab": {
          "base_uri": "https://localhost:8080/",
          "height": 318
        }
      },
      "execution_count": 85,
      "outputs": [
        {
          "output_type": "stream",
          "name": "stderr",
          "text": [
            "WARNING:matplotlib.image:Clipping input data to the valid range for imshow with RGB data ([0..1] for floats or [0..255] for integers).\n"
          ]
        },
        {
          "output_type": "stream",
          "name": "stdout",
          "text": [
            "10000 2000\n"
          ]
        },
        {
          "output_type": "execute_result",
          "data": {
            "text/plain": [
              "(<matplotlib.image.AxesImage at 0x7f6eb3f3dc10>, 'airplane')"
            ]
          },
          "metadata": {},
          "execution_count": 85
        },
        {
          "output_type": "display_data",
          "data": {
            "text/plain": [
              "<Figure size 432x288 with 1 Axes>"
            ],
            "image/png": "[encoded data removed]"
          },
          "metadata": {
            "needs_background": "light"
          }
        }
      ]
    },
    {
      "cell_type": "markdown",
      "source": [
        "### Building the Neural network 😊 \n"
      ],
      "metadata": {
        "id": "JwbIP1b-qlKb"
      }
    },
    {
      "cell_type": "code",
      "source": [
        "n_input=3*32*32\n",
        "n_out=2\n",
        "n_hidden=512\n",
        "model=nn.Sequential(\n",
        "    nn.Linear(n_input,2048),\n",
        "     nn.Tanh(),\n",
        "    nn.Linear(2048,1024),\n",
        "     nn.Tanh(),\n",
        "    nn.Linear(1024,512),\n",
        "     nn.Tanh(),\n",
        "    nn.Linear(512,128),\n",
        "    nn.Tanh(),\n",
        "    nn.Linear(128,n_out),\n",
        "    nn.LogSoftmax(dim=1)\n",
        ")"
      ],
      "metadata": {
        "id": "-VsCOcj5Naju"
      },
      "execution_count": 86,
      "outputs": []
    },
    {
      "cell_type": "code",
      "source": [
        "img,label=cifar2[0]\n",
        "plt.imshow(img.permute(1,2,0))\n",
        "plt.show()"
      ],
      "metadata": {
        "id": "kxEf_VwsOOxU",
        "outputId": "769dd1f9-9b21-42f4-bf4b-da0443f9d885",
        "colab": {
          "base_uri": "https://localhost:8080/",
          "height": 283
        }
      },
      "execution_count": 87,
      "outputs": [
        {
          "output_type": "stream",
          "name": "stderr",
          "text": [
            "WARNING:matplotlib.image:Clipping input data to the valid range for imshow with RGB data ([0..1] for floats or [0..255] for integers).\n"
          ]
        },
        {
          "output_type": "display_data",
          "data": {
            "text/plain": [
              "<Figure size 432x288 with 1 Axes>"
            ],
            "image/png": "[encoded data removed]"
          },
          "metadata": {
            "needs_background": "light"
          }
        }
      ]
    },
    {
      "cell_type": "code",
      "source": [
        "Loss=nn.NLLLoss()\n",
        "img_batch=img.view(-1).unsqueeze(0)\n",
        "img_batch.shape\n",
        "out=model(img_batch)\n",
        "y=Loss(out,torch.tensor([label]))\n",
        "out,y"
      ],
      "metadata": {
        "id": "FuDHfNEvQgE_",
        "outputId": "0380060a-258d-46eb-a30c-c305b3458d83",
        "colab": {
          "base_uri": "https://localhost:8080/"
        }
      },
      "execution_count": 88,
      "outputs": [
        {
          "output_type": "execute_result",
          "data": {
            "text/plain": [
              "(tensor([[-0.7835, -0.6103]], grad_fn=<LogSoftmaxBackward0>),\n",
              " tensor(0.6103, grad_fn=<NllLossBackward0>))"
            ]
          },
          "metadata": {},
          "execution_count": 88
        }
      ]
    },
    {
      "cell_type": "code",
      "source": [
        "learning_rate=1e-2\n",
        "loss_fn=nn.NLLLoss()\n",
        "optimizer=optim.SGD(model.parameters(),lr=learning_rate)\n",
        "train_loader = torch.utils.data.DataLoader(cifar2, batch_size=64,shuffle=True)\n",
        "val_loader = torch.utils.data.DataLoader(cifar2_val, batch_size=64,shuffle=False)\n",
        "n_epochs=100\n",
        "for epoch in range(n_epochs):\n",
        "  for imgs,labels in train_loader:\n",
        "    batch_size = imgs.shape[0]\n",
        "    out = model(imgs.view(batch_size, -1))\n",
        "    target=labels\n",
        "    loss=loss_fn(out,target)\n",
        "    optimizer.zero_grad()\n",
        "    loss.backward()\n",
        "    optimizer.step()\n",
        "  # for img,label in cifar2_val:\n",
        "  #   out=model(img.view(-1).unsqueeze(0))\n",
        "  #   target=torch.tensor([label])\n",
        "  #   loss_val=loss_fn(out,target)\n",
        "  print('epoch: %d loss: %f loss_val: %f'%(epoch+1,float(loss),float(loss_val)))"
      ],
      "metadata": {
        "id": "YF6zteh4Q2K8",
        "outputId": "8a449b33-e4b6-45bc-a820-f44fc131a964",
        "colab": {
          "base_uri": "https://localhost:8080/"
        }
      },
      "execution_count": 89,
      "outputs": [
        {
          "output_type": "stream",
          "name": "stdout",
          "text": [
            "epoch: 1 loss: 0.472859 loss_val: 0.343884\n",
            "epoch: 2 loss: 0.525213 loss_val: 0.343884\n",
            "epoch: 3 loss: 0.277221 loss_val: 0.343884\n",
            "epoch: 4 loss: 0.422954 loss_val: 0.343884\n",
            "epoch: 5 loss: 0.485279 loss_val: 0.343884\n",
            "epoch: 6 loss: 0.411265 loss_val: 0.343884\n",
            "epoch: 7 loss: 0.391647 loss_val: 0.343884\n",
            "epoch: 8 loss: 0.314549 loss_val: 0.343884\n",
            "epoch: 9 loss: 0.425403 loss_val: 0.343884\n",
            "epoch: 10 loss: 0.482336 loss_val: 0.343884\n",
            "epoch: 11 loss: 0.364925 loss_val: 0.343884\n",
            "epoch: 12 loss: 0.606530 loss_val: 0.343884\n",
            "epoch: 13 loss: 0.388204 loss_val: 0.343884\n",
            "epoch: 14 loss: 0.372126 loss_val: 0.343884\n",
            "epoch: 15 loss: 0.241540 loss_val: 0.343884\n",
            "epoch: 16 loss: 0.371362 loss_val: 0.343884\n",
            "epoch: 17 loss: 0.075019 loss_val: 0.343884\n",
            "epoch: 18 loss: 0.166159 loss_val: 0.343884\n",
            "epoch: 19 loss: 0.304397 loss_val: 0.343884\n",
            "epoch: 20 loss: 0.469208 loss_val: 0.343884\n",
            "epoch: 21 loss: 0.312668 loss_val: 0.343884\n",
            "epoch: 22 loss: 0.283997 loss_val: 0.343884\n",
            "epoch: 23 loss: 0.416713 loss_val: 0.343884\n",
            "epoch: 24 loss: 0.304529 loss_val: 0.343884\n",
            "epoch: 25 loss: 0.376541 loss_val: 0.343884\n",
            "epoch: 26 loss: 0.245045 loss_val: 0.343884\n",
            "epoch: 27 loss: 0.183089 loss_val: 0.343884\n",
            "epoch: 28 loss: 0.396181 loss_val: 0.343884\n",
            "epoch: 29 loss: 0.180679 loss_val: 0.343884\n",
            "epoch: 30 loss: 0.345957 loss_val: 0.343884\n",
            "epoch: 31 loss: 0.259999 loss_val: 0.343884\n",
            "epoch: 32 loss: 0.162004 loss_val: 0.343884\n",
            "epoch: 33 loss: 0.239148 loss_val: 0.343884\n",
            "epoch: 34 loss: 0.116727 loss_val: 0.343884\n",
            "epoch: 35 loss: 0.059400 loss_val: 0.343884\n",
            "epoch: 36 loss: 0.267732 loss_val: 0.343884\n",
            "epoch: 37 loss: 0.409818 loss_val: 0.343884\n",
            "epoch: 38 loss: 0.066010 loss_val: 0.343884\n",
            "epoch: 39 loss: 0.174274 loss_val: 0.343884\n",
            "epoch: 40 loss: 0.090369 loss_val: 0.343884\n",
            "epoch: 41 loss: 0.165286 loss_val: 0.343884\n",
            "epoch: 42 loss: 0.024578 loss_val: 0.343884\n",
            "epoch: 43 loss: 0.109809 loss_val: 0.343884\n",
            "epoch: 44 loss: 0.335826 loss_val: 0.343884\n",
            "epoch: 45 loss: 0.069506 loss_val: 0.343884\n",
            "epoch: 46 loss: 0.217974 loss_val: 0.343884\n",
            "epoch: 47 loss: 0.069517 loss_val: 0.343884\n",
            "epoch: 48 loss: 0.011905 loss_val: 0.343884\n",
            "epoch: 49 loss: 0.028668 loss_val: 0.343884\n",
            "epoch: 50 loss: 0.102319 loss_val: 0.343884\n",
            "epoch: 51 loss: 0.051634 loss_val: 0.343884\n",
            "epoch: 52 loss: 0.015150 loss_val: 0.343884\n",
            "epoch: 53 loss: 0.023659 loss_val: 0.343884\n",
            "epoch: 54 loss: 0.078613 loss_val: 0.343884\n",
            "epoch: 55 loss: 0.023228 loss_val: 0.343884\n",
            "epoch: 56 loss: 0.248200 loss_val: 0.343884\n",
            "epoch: 57 loss: 0.096169 loss_val: 0.343884\n",
            "epoch: 58 loss: 0.018431 loss_val: 0.343884\n",
            "epoch: 59 loss: 0.073413 loss_val: 0.343884\n",
            "epoch: 60 loss: 0.007745 loss_val: 0.343884\n",
            "epoch: 61 loss: 0.026567 loss_val: 0.343884\n",
            "epoch: 62 loss: 0.150191 loss_val: 0.343884\n",
            "epoch: 63 loss: 0.154607 loss_val: 0.343884\n",
            "epoch: 64 loss: 0.045637 loss_val: 0.343884\n",
            "epoch: 65 loss: 0.024252 loss_val: 0.343884\n",
            "epoch: 66 loss: 0.002514 loss_val: 0.343884\n",
            "epoch: 67 loss: 0.017674 loss_val: 0.343884\n",
            "epoch: 68 loss: 0.010952 loss_val: 0.343884\n",
            "epoch: 69 loss: 0.013578 loss_val: 0.343884\n",
            "epoch: 70 loss: 0.021277 loss_val: 0.343884\n",
            "epoch: 71 loss: 0.007181 loss_val: 0.343884\n",
            "epoch: 72 loss: 0.006219 loss_val: 0.343884\n",
            "epoch: 73 loss: 0.037269 loss_val: 0.343884\n",
            "epoch: 74 loss: 0.023629 loss_val: 0.343884\n",
            "epoch: 75 loss: 0.004273 loss_val: 0.343884\n",
            "epoch: 76 loss: 0.007023 loss_val: 0.343884\n",
            "epoch: 77 loss: 0.006817 loss_val: 0.343884\n",
            "epoch: 78 loss: 0.005121 loss_val: 0.343884\n",
            "epoch: 79 loss: 0.001774 loss_val: 0.343884\n",
            "epoch: 80 loss: 1.825356 loss_val: 0.343884\n",
            "epoch: 81 loss: 0.001175 loss_val: 0.343884\n",
            "epoch: 82 loss: 0.016116 loss_val: 0.343884\n",
            "epoch: 83 loss: 0.003031 loss_val: 0.343884\n",
            "epoch: 84 loss: 0.008233 loss_val: 0.343884\n",
            "epoch: 85 loss: 0.010048 loss_val: 0.343884\n",
            "epoch: 86 loss: 0.001525 loss_val: 0.343884\n",
            "epoch: 87 loss: 0.000940 loss_val: 0.343884\n",
            "epoch: 88 loss: 0.015683 loss_val: 0.343884\n",
            "epoch: 89 loss: 0.000496 loss_val: 0.343884\n",
            "epoch: 90 loss: 0.004357 loss_val: 0.343884\n",
            "epoch: 91 loss: 0.004611 loss_val: 0.343884\n",
            "epoch: 92 loss: 0.002468 loss_val: 0.343884\n",
            "epoch: 93 loss: 0.004298 loss_val: 0.343884\n",
            "epoch: 94 loss: 0.001038 loss_val: 0.343884\n",
            "epoch: 95 loss: 0.000872 loss_val: 0.343884\n",
            "epoch: 96 loss: 0.094363 loss_val: 0.343884\n",
            "epoch: 97 loss: 0.010374 loss_val: 0.343884\n",
            "epoch: 98 loss: 0.005201 loss_val: 0.343884\n",
            "epoch: 99 loss: 0.001458 loss_val: 0.343884\n",
            "epoch: 100 loss: 0.000375 loss_val: 0.343884\n"
          ]
        }
      ]
    },
    {
      "cell_type": "code",
      "source": [
        "val_loader = torch.utils.data.DataLoader(cifar2_val, batch_size=64,shuffle=False)\n",
        "\n",
        "correct = 0\n",
        "total = 0\n",
        "with torch.no_grad():\n",
        "  for imgs, labels in val_loader:\n",
        "    batch_size = imgs.shape[0]\n",
        "    outputs = model(imgs.view(batch_size, -1))\n",
        "    _, predicted = torch.max(outputs, dim=1)\n",
        "    total += labels.shape[0]\n",
        "    correct += int((predicted == labels).sum())\n",
        "  print(\"Accuracy: %f\", correct / total)"
      ],
      "metadata": {
        "id": "Dc_7VffSBIWX",
        "outputId": "49d2d5b8-9b2d-4e33-ff22-da78436ce011",
        "colab": {
          "base_uri": "https://localhost:8080/"
        }
      },
      "execution_count": 90,
      "outputs": [
        {
          "output_type": "stream",
          "name": "stdout",
          "text": [
            "Accuracy: %f 0.8015\n"
          ]
        }
      ]
    },
    {
      "cell_type": "code",
      "source": [
        "numel_list=[p.numel() for p in model.parameters() if (p.requires_grad==True)]\n",
        "sum(numel_list),numel_list"
      ],
      "metadata": {
        "id": "_5yTWk-IV8u8",
        "outputId": "2f1fce85-30f9-4212-eec1-0e8c2f39991f",
        "colab": {
          "base_uri": "https://localhost:8080/"
        }
      },
      "execution_count": 92,
      "outputs": [
        {
          "output_type": "execute_result",
          "data": {
            "text/plain": [
              "(8982402, [6291456, 2048, 2097152, 1024, 524288, 512, 65536, 128, 256, 2])"
            ]
          },
          "metadata": {},
          "execution_count": 92
        }
      ]
    },
    {
      "cell_type": "code",
      "source": [
        "loader = torch.utils.data.DataLoader(cifar2, batch_size=64,shuffle=False)\n",
        "\n",
        "correct = 0\n",
        "total = 0\n",
        "with torch.no_grad():\n",
        "  for imgs, labels in loader:\n",
        "    batch_size = imgs.shape[0]\n",
        "    outputs = model(imgs.view(batch_size, -1))\n",
        "    _, predicted = torch.max(outputs, dim=1)\n",
        "    total += labels.shape[0]\n",
        "    correct += int((predicted == labels).sum())\n",
        "  print(\"Accuracy: %f\", correct / total)"
      ],
      "metadata": {
        "id": "40WQCQaZZguh",
        "outputId": "f0d33416-35af-4179-e3b3-bfa84f12730e",
        "colab": {
          "base_uri": "https://localhost:8080/"
        }
      },
      "execution_count": 94,
      "outputs": [
        {
          "output_type": "stream",
          "name": "stdout",
          "text": [
            "Accuracy: %f 0.9999\n"
          ]
        }
      ]
    },
    {
      "cell_type": "code",
      "source": [
        ""
      ],
      "metadata": {
        "id": "orckkdtJiO9Z"
      },
      "execution_count": null,
      "outputs": []
    }
  ]
}