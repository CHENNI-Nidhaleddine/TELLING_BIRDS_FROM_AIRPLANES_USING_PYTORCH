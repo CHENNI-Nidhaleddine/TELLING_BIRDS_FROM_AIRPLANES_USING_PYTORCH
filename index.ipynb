{
  "nbformat": 4,
  "nbformat_minor": 0,
  "metadata": {
    "colab": {
      "name": "index.ipynb",
      "provenance": [],
      "authorship_tag": "ABX9TyMdX/50/NC3xR9A1ZTWV9AZ",
      "include_colab_link": true
    },
    "kernelspec": {
      "name": "python3",
      "display_name": "Python 3"
    },
    "language_info": {
      "name": "python"
    },
    "accelerator": "GPU",
    "gpuClass": "standard"
  },
  "cells": [
    {
      "cell_type": "markdown",
      "metadata": {
        "id": "view-in-github",
        "colab_type": "text"
      },
      "source": [
        "<a href=\"https://colab.research.google.com/github/CHENNI-Nidhaleddine/TELLING_BIRDS_FROM_AIRPLANES_USING_PYTORCH/blob/master/index.ipynb\" target=\"_parent\"><img src=\"https://colab.research.google.com/assets/colab-badge.svg\" alt=\"Open In Colab\"/></a>"
      ]
    },
    {
      "cell_type": "code",
      "execution_count": 127,
      "metadata": {
        "id": "yfnNbz3ljTZy"
      },
      "outputs": [],
      "source": [
        "import torch\n",
        "import numpy\n",
        "import torch.nn as nn\n",
        "import matplotlib.pyplot as plt\n",
        "from torchvision import datasets,transforms"
      ]
    },
    {
      "cell_type": "markdown",
      "source": [
        "## Downloading the CIFAR-10 \n",
        "#### cifar-10 is a dateset that consists of 60.000 32x32 RGB images labeled with an integer corresponding to 1 of 10 classes: airplane (0), automobile (1), bird (2), cat (3),deer (4), dog (5), frog (6), horse (7), ship (8), and truck (9)."
      ],
      "metadata": {
        "id": "glvo0g6vm61R"
      }
    },
    {
      "cell_type": "code",
      "source": [
        "data_path = '../data'\n",
        "cifar10 = datasets.CIFAR10(data_path, train=True, download=True,transform=transforms.ToTensor())\n",
        "cifar10_val = datasets.CIFAR10(data_path, train=False, download=True,transform=transforms.ToTensor())\n",
        "class_names=[\"airplane\", \"automobile\" ,\"bird\", \"cat\",\"deer\", \"dog\", \"frog\" , \"horse\" , \"ship\", \"truck\"]"
      ],
      "metadata": {
        "colab": {
          "base_uri": "https://localhost:8080/"
        },
        "id": "GQO_hmguj4J-",
        "outputId": "07d419d5-84c8-4d2d-a9c7-cef7d5ac223d"
      },
      "execution_count": 128,
      "outputs": [
        {
          "output_type": "stream",
          "name": "stdout",
          "text": [
            "Files already downloaded and verified\n",
            "Files already downloaded and verified\n"
          ]
        }
      ]
    },
    {
      "cell_type": "code",
      "source": [
        "len(cifar10),len(cifar10_val),cifar10.__len__"
      ],
      "metadata": {
        "colab": {
          "base_uri": "https://localhost:8080/"
        },
        "id": "jDUYRnTHoamP",
        "outputId": "1126367d-e414-4dc9-b6e1-b8c61f8ce36d"
      },
      "execution_count": 129,
      "outputs": [
        {
          "output_type": "execute_result",
          "data": {
            "text/plain": [
              "(50000, 10000, <bound method CIFAR10.__len__ of Dataset CIFAR10\n",
              "     Number of datapoints: 50000\n",
              "     Root location: ../data\n",
              "     Split: Train\n",
              "     StandardTransform\n",
              " Transform: ToTensor()>)"
            ]
          },
          "metadata": {},
          "execution_count": 129
        }
      ]
    },
    {
      "cell_type": "markdown",
      "source": [
        "##### Separate images from labels"
      ],
      "metadata": {
        "id": "K_EkmbrEvSPj"
      }
    },
    {
      "cell_type": "code",
      "source": [
        " all_imgs=torch.stack([img for img,_ in cifar10],dim=3)"
      ],
      "metadata": {
        "id": "zzGpyDsNHkXO"
      },
      "execution_count": 130,
      "outputs": []
    },
    {
      "cell_type": "markdown",
      "source": [
        "##### Some tests"
      ],
      "metadata": {
        "id": "yJ7AIG1nvgHr"
      }
    },
    {
      "cell_type": "code",
      "source": [
        "index=93\n",
        "plt.imshow(all_imgs[:,:,:,index].permute(1,2,0))\n",
        "print(class_names[cifar10[index][1]])"
      ],
      "metadata": {
        "id": "nybxnUjWut5Y",
        "outputId": "75a0d84e-3cda-49f1-d841-47f4667c82e5",
        "colab": {
          "base_uri": "https://localhost:8080/",
          "height": 283
        }
      },
      "execution_count": 131,
      "outputs": [
        {
          "output_type": "stream",
          "name": "stdout",
          "text": [
            "airplane\n"
          ]
        },
        {
          "output_type": "display_data",
          "data": {
            "text/plain": [
              "<Figure size 432x288 with 1 Axes>"
            ],
            "image/png": "[encoded data removed]"
          },
          "metadata": {
            "needs_background": "light"
          }
        }
      ]
    },
    {
      "cell_type": "markdown",
      "source": [
        "### Normalizing data"
      ],
      "metadata": {
        "id": "v_xGiSKMtU3_"
      }
    },
    {
      "cell_type": "code",
      "source": [
        "mean=all_imgs.view(3,-1).mean(dim=1)\n",
        "std=all_imgs.view(3,-1).std(dim=1)\n",
        "print(mean,std)\n",
        "transformed_cifar10=datasets.CIFAR10(dir_path,train=True,download=False,transform=transforms.Compose([transforms.ToTensor(),transforms.Normalize(mean=mean,std=std)]))\n",
        "transformed_cifar10_val=datasets.CIFAR10(dir_path,train=False,download=False,transform=transforms.Compose([transforms.ToTensor(),transforms.Normalize(mean=mean,std=std)]))"
      ],
      "metadata": {
        "id": "hnQ8EzVHtZq4",
        "outputId": "fe4ea135-909b-4a9e-b77b-0c6811ea4c5c",
        "colab": {
          "base_uri": "https://localhost:8080/"
        }
      },
      "execution_count": 132,
      "outputs": [
        {
          "output_type": "stream",
          "name": "stdout",
          "text": [
            "tensor([0.4914, 0.4822, 0.4465]) tensor([0.2470, 0.2435, 0.2616])\n"
          ]
        }
      ]
    },
    {
      "cell_type": "markdown",
      "source": [
        "##### Some tests"
      ],
      "metadata": {
        "id": "2zkSERdWw_DU"
      }
    },
    {
      "cell_type": "code",
      "source": [
        "img_t,label=transformed_cifar10[index]\n",
        "plt.imshow(img_t.permute(1,2,0)),class_names[label]"
      ],
      "metadata": {
        "id": "0QUgG8XYxAys",
        "outputId": "33805b6a-f0b3-4e11-80ff-a1eff687caa4",
        "colab": {
          "base_uri": "https://localhost:8080/",
          "height": 301
        }
      },
      "execution_count": 133,
      "outputs": [
        {
          "output_type": "stream",
          "name": "stderr",
          "text": [
            "WARNING:matplotlib.image:Clipping input data to the valid range for imshow with RGB data ([0..1] for floats or [0..255] for integers).\n"
          ]
        },
        {
          "output_type": "execute_result",
          "data": {
            "text/plain": [
              "(<matplotlib.image.AxesImage at 0x7fb095c11650>, 'airplane')"
            ]
          },
          "metadata": {},
          "execution_count": 133
        },
        {
          "output_type": "display_data",
          "data": {
            "text/plain": [
              "<Figure size 432x288 with 1 Axes>"
            ],
            "image/png": "[encoded data removed]"
          },
          "metadata": {
            "needs_background": "light"
          }
        }
      ]
    },
    {
      "cell_type": "markdown",
      "source": [
        "### Extracting birds and airplanes data"
      ],
      "metadata": {
        "id": "PRlY8WLGx9qQ"
      }
    },
    {
      "cell_type": "code",
      "source": [
        "# class_names[0] --> airplane\n",
        "# class_names[2] --> bird\n",
        "labels=['airplane','bird']\n",
        "cifar2=[(img,4%(label+1)) for img,label in transformed_cifar10 if label in [0,2]]\n",
        "cifar2_val=[(img,4%(label+1)) for img,label in transformed_cifar10_val if label in [0,2]]"
      ],
      "metadata": {
        "id": "zCyIH6PKKAcj"
      },
      "execution_count": 134,
      "outputs": []
    },
    {
      "cell_type": "markdown",
      "source": [
        "##### Some tests:"
      ],
      "metadata": {
        "id": "JWOcowN90Xes"
      }
    },
    {
      "cell_type": "code",
      "source": [
        "index=35\n",
        "print(len(cifar2),len(cifar2_val))\n",
        "plt.imshow(cifar2[index][0].permute(1,2,0)),labels[cifar2[index][1]]"
      ],
      "metadata": {
        "id": "ro3Ol9jt0ax8",
        "outputId": "f537c81b-4eb2-45f5-d6fb-274e9a7208c1",
        "colab": {
          "base_uri": "https://localhost:8080/",
          "height": 318
        }
      },
      "execution_count": 135,
      "outputs": [
        {
          "output_type": "stream",
          "name": "stderr",
          "text": [
            "WARNING:matplotlib.image:Clipping input data to the valid range for imshow with RGB data ([0..1] for floats or [0..255] for integers).\n"
          ]
        },
        {
          "output_type": "stream",
          "name": "stdout",
          "text": [
            "10000 2000\n"
          ]
        },
        {
          "output_type": "execute_result",
          "data": {
            "text/plain": [
              "(<matplotlib.image.AxesImage at 0x7fb097e1dd90>, 'airplane')"
            ]
          },
          "metadata": {},
          "execution_count": 135
        },
        {
          "output_type": "display_data",
          "data": {
            "text/plain": [
              "<Figure size 432x288 with 1 Axes>"
            ],
            "image/png": "[encoded data removed]"
          },
          "metadata": {
            "needs_background": "light"
          }
        }
      ]
    },
    {
      "cell_type": "code",
      "source": [
        ""
      ],
      "metadata": {
        "id": "-VsCOcj5Naju"
      },
      "execution_count": 135,
      "outputs": []
    },
    {
      "cell_type": "code",
      "source": [
        ""
      ],
      "metadata": {
        "id": "kxEf_VwsOOxU"
      },
      "execution_count": 135,
      "outputs": []
    },
    {
      "cell_type": "code",
      "source": [
        ""
      ],
      "metadata": {
        "id": "FuDHfNEvQgE_"
      },
      "execution_count": 135,
      "outputs": []
    },
    {
      "cell_type": "code",
      "source": [
        ""
      ],
      "metadata": {
        "id": "YF6zteh4Q2K8"
      },
      "execution_count": 135,
      "outputs": []
    }
  ]
}