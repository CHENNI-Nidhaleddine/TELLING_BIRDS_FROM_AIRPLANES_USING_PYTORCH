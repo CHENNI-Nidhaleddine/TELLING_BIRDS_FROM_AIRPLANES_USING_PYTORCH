{
  "nbformat": 4,
  "nbformat_minor": 0,
  "metadata": {
    "colab": {
      "name": "index.ipynb",
      "provenance": [],
      "authorship_tag": "ABX9TyPt3nqb3NJhlrfOboTLrDJN",
      "include_colab_link": true
    },
    "kernelspec": {
      "name": "python3",
      "display_name": "Python 3"
    },
    "language_info": {
      "name": "python"
    },
    "accelerator": "GPU",
    "gpuClass": "standard",
    "widgets": {
      "application/vnd.jupyter.widget-state+json": {
        "7f6fad5b9c984b038af9c266235c46cf": {
          "model_module": "@jupyter-widgets/controls",
          "model_name": "HBoxModel",
          "model_module_version": "1.5.0",
          "state": {
            "_dom_classes": [],
            "_model_module": "@jupyter-widgets/controls",
            "_model_module_version": "1.5.0",
            "_model_name": "HBoxModel",
            "_view_count": null,
            "_view_module": "@jupyter-widgets/controls",
            "_view_module_version": "1.5.0",
            "_view_name": "HBoxView",
            "box_style": "",
            "children": [
              "IPY_MODEL_8312bfe217964dae84b5df10051c468c",
              "IPY_MODEL_7a1e8402f0ac4e72b1ed772c0491d225",
              "IPY_MODEL_458af9f986c04e4abec1778aff9e4e8d"
            ],
            "layout": "IPY_MODEL_ecf2701c3569452095fb98f64d5fbd6d"
          }
        },
        "8312bfe217964dae84b5df10051c468c": {
          "model_module": "@jupyter-widgets/controls",
          "model_name": "HTMLModel",
          "model_module_version": "1.5.0",
          "state": {
            "_dom_classes": [],
            "_model_module": "@jupyter-widgets/controls",
            "_model_module_version": "1.5.0",
            "_model_name": "HTMLModel",
            "_view_count": null,
            "_view_module": "@jupyter-widgets/controls",
            "_view_module_version": "1.5.0",
            "_view_name": "HTMLView",
            "description": "",
            "description_tooltip": null,
            "layout": "IPY_MODEL_de9e93fb29964981adc04daac6ed4ec8",
            "placeholder": "​",
            "style": "IPY_MODEL_4ce1d3127e0f4fda8f457d96ad6674f0",
            "value": "100%"
          }
        },
        "7a1e8402f0ac4e72b1ed772c0491d225": {
          "model_module": "@jupyter-widgets/controls",
          "model_name": "FloatProgressModel",
          "model_module_version": "1.5.0",
          "state": {
            "_dom_classes": [],
            "_model_module": "@jupyter-widgets/controls",
            "_model_module_version": "1.5.0",
            "_model_name": "FloatProgressModel",
            "_view_count": null,
            "_view_module": "@jupyter-widgets/controls",
            "_view_module_version": "1.5.0",
            "_view_name": "ProgressView",
            "bar_style": "success",
            "description": "",
            "description_tooltip": null,
            "layout": "IPY_MODEL_76c420e7de1f4929a869f2c893b9cdfb",
            "max": 170498071,
            "min": 0,
            "orientation": "horizontal",
            "style": "IPY_MODEL_7b24ff156a3949c3bd16660a4ddbd201",
            "value": 170498071
          }
        },
        "458af9f986c04e4abec1778aff9e4e8d": {
          "model_module": "@jupyter-widgets/controls",
          "model_name": "HTMLModel",
          "model_module_version": "1.5.0",
          "state": {
            "_dom_classes": [],
            "_model_module": "@jupyter-widgets/controls",
            "_model_module_version": "1.5.0",
            "_model_name": "HTMLModel",
            "_view_count": null,
            "_view_module": "@jupyter-widgets/controls",
            "_view_module_version": "1.5.0",
            "_view_name": "HTMLView",
            "description": "",
            "description_tooltip": null,
            "layout": "IPY_MODEL_2beef67bb10d47789e1916e43f98329d",
            "placeholder": "​",
            "style": "IPY_MODEL_daee4872fa824018bbf4215812f5bb69",
            "value": " 170498071/170498071 [00:13&lt;00:00, 14034174.13it/s]"
          }
        },
        "ecf2701c3569452095fb98f64d5fbd6d": {
          "model_module": "@jupyter-widgets/base",
          "model_name": "LayoutModel",
          "model_module_version": "1.2.0",
          "state": {
            "_model_module": "@jupyter-widgets/base",
            "_model_module_version": "1.2.0",
            "_model_name": "LayoutModel",
            "_view_count": null,
            "_view_module": "@jupyter-widgets/base",
            "_view_module_version": "1.2.0",
            "_view_name": "LayoutView",
            "align_content": null,
            "align_items": null,
            "align_self": null,
            "border": null,
            "bottom": null,
            "display": null,
            "flex": null,
            "flex_flow": null,
            "grid_area": null,
            "grid_auto_columns": null,
            "grid_auto_flow": null,
            "grid_auto_rows": null,
            "grid_column": null,
            "grid_gap": null,
            "grid_row": null,
            "grid_template_areas": null,
            "grid_template_columns": null,
            "grid_template_rows": null,
            "height": null,
            "justify_content": null,
            "justify_items": null,
            "left": null,
            "margin": null,
            "max_height": null,
            "max_width": null,
            "min_height": null,
            "min_width": null,
            "object_fit": null,
            "object_position": null,
            "order": null,
            "overflow": null,
            "overflow_x": null,
            "overflow_y": null,
            "padding": null,
            "right": null,
            "top": null,
            "visibility": null,
            "width": null
          }
        },
        "de9e93fb29964981adc04daac6ed4ec8": {
          "model_module": "@jupyter-widgets/base",
          "model_name": "LayoutModel",
          "model_module_version": "1.2.0",
          "state": {
            "_model_module": "@jupyter-widgets/base",
            "_model_module_version": "1.2.0",
            "_model_name": "LayoutModel",
            "_view_count": null,
            "_view_module": "@jupyter-widgets/base",
            "_view_module_version": "1.2.0",
            "_view_name": "LayoutView",
            "align_content": null,
            "align_items": null,
            "align_self": null,
            "border": null,
            "bottom": null,
            "display": null,
            "flex": null,
            "flex_flow": null,
            "grid_area": null,
            "grid_auto_columns": null,
            "grid_auto_flow": null,
            "grid_auto_rows": null,
            "grid_column": null,
            "grid_gap": null,
            "grid_row": null,
            "grid_template_areas": null,
            "grid_template_columns": null,
            "grid_template_rows": null,
            "height": null,
            "justify_content": null,
            "justify_items": null,
            "left": null,
            "margin": null,
            "max_height": null,
            "max_width": null,
            "min_height": null,
            "min_width": null,
            "object_fit": null,
            "object_position": null,
            "order": null,
            "overflow": null,
            "overflow_x": null,
            "overflow_y": null,
            "padding": null,
            "right": null,
            "top": null,
            "visibility": null,
            "width": null
          }
        },
        "4ce1d3127e0f4fda8f457d96ad6674f0": {
          "model_module": "@jupyter-widgets/controls",
          "model_name": "DescriptionStyleModel",
          "model_module_version": "1.5.0",
          "state": {
            "_model_module": "@jupyter-widgets/controls",
            "_model_module_version": "1.5.0",
            "_model_name": "DescriptionStyleModel",
            "_view_count": null,
            "_view_module": "@jupyter-widgets/base",
            "_view_module_version": "1.2.0",
            "_view_name": "StyleView",
            "description_width": ""
          }
        },
        "76c420e7de1f4929a869f2c893b9cdfb": {
          "model_module": "@jupyter-widgets/base",
          "model_name": "LayoutModel",
          "model_module_version": "1.2.0",
          "state": {
            "_model_module": "@jupyter-widgets/base",
            "_model_module_version": "1.2.0",
            "_model_name": "LayoutModel",
            "_view_count": null,
            "_view_module": "@jupyter-widgets/base",
            "_view_module_version": "1.2.0",
            "_view_name": "LayoutView",
            "align_content": null,
            "align_items": null,
            "align_self": null,
            "border": null,
            "bottom": null,
            "display": null,
            "flex": null,
            "flex_flow": null,
            "grid_area": null,
            "grid_auto_columns": null,
            "grid_auto_flow": null,
            "grid_auto_rows": null,
            "grid_column": null,
            "grid_gap": null,
            "grid_row": null,
            "grid_template_areas": null,
            "grid_template_columns": null,
            "grid_template_rows": null,
            "height": null,
            "justify_content": null,
            "justify_items": null,
            "left": null,
            "margin": null,
            "max_height": null,
            "max_width": null,
            "min_height": null,
            "min_width": null,
            "object_fit": null,
            "object_position": null,
            "order": null,
            "overflow": null,
            "overflow_x": null,
            "overflow_y": null,
            "padding": null,
            "right": null,
            "top": null,
            "visibility": null,
            "width": null
          }
        },
        "7b24ff156a3949c3bd16660a4ddbd201": {
          "model_module": "@jupyter-widgets/controls",
          "model_name": "ProgressStyleModel",
          "model_module_version": "1.5.0",
          "state": {
            "_model_module": "@jupyter-widgets/controls",
            "_model_module_version": "1.5.0",
            "_model_name": "ProgressStyleModel",
            "_view_count": null,
            "_view_module": "@jupyter-widgets/base",
            "_view_module_version": "1.2.0",
            "_view_name": "StyleView",
            "bar_color": null,
            "description_width": ""
          }
        },
        "2beef67bb10d47789e1916e43f98329d": {
          "model_module": "@jupyter-widgets/base",
          "model_name": "LayoutModel",
          "model_module_version": "1.2.0",
          "state": {
            "_model_module": "@jupyter-widgets/base",
            "_model_module_version": "1.2.0",
            "_model_name": "LayoutModel",
            "_view_count": null,
            "_view_module": "@jupyter-widgets/base",
            "_view_module_version": "1.2.0",
            "_view_name": "LayoutView",
            "align_content": null,
            "align_items": null,
            "align_self": null,
            "border": null,
            "bottom": null,
            "display": null,
            "flex": null,
            "flex_flow": null,
            "grid_area": null,
            "grid_auto_columns": null,
            "grid_auto_flow": null,
            "grid_auto_rows": null,
            "grid_column": null,
            "grid_gap": null,
            "grid_row": null,
            "grid_template_areas": null,
            "grid_template_columns": null,
            "grid_template_rows": null,
            "height": null,
            "justify_content": null,
            "justify_items": null,
            "left": null,
            "margin": null,
            "max_height": null,
            "max_width": null,
            "min_height": null,
            "min_width": null,
            "object_fit": null,
            "object_position": null,
            "order": null,
            "overflow": null,
            "overflow_x": null,
            "overflow_y": null,
            "padding": null,
            "right": null,
            "top": null,
            "visibility": null,
            "width": null
          }
        },
        "daee4872fa824018bbf4215812f5bb69": {
          "model_module": "@jupyter-widgets/controls",
          "model_name": "DescriptionStyleModel",
          "model_module_version": "1.5.0",
          "state": {
            "_model_module": "@jupyter-widgets/controls",
            "_model_module_version": "1.5.0",
            "_model_name": "DescriptionStyleModel",
            "_view_count": null,
            "_view_module": "@jupyter-widgets/base",
            "_view_module_version": "1.2.0",
            "_view_name": "StyleView",
            "description_width": ""
          }
        }
      }
    }
  },
  "cells": [
    {
      "cell_type": "markdown",
      "metadata": {
        "id": "view-in-github",
        "colab_type": "text"
      },
      "source": [
        "<a href=\"https://colab.research.google.com/github/CHENNI-Nidhaleddine/TELLING_BIRDS_FROM_AIRPLANES_USING_PYTORCH/blob/master/index.ipynb\" target=\"_parent\"><img src=\"https://colab.research.google.com/assets/colab-badge.svg\" alt=\"Open In Colab\"/></a>"
      ]
    },
    {
      "cell_type": "code",
      "execution_count": 3,
      "metadata": {
        "id": "yfnNbz3ljTZy"
      },
      "outputs": [],
      "source": [
        "import torch\n",
        "import numpy\n",
        "import torch.nn as nn\n",
        "import matplotlib.pyplot as plt\n",
        "from torchvision import datasets,transforms\n",
        "import torch.optim as optim"
      ]
    },
    {
      "cell_type": "markdown",
      "source": [
        "## Downloading the CIFAR-10 \n",
        "#### cifar-10 is a dateset that consists of 60.000 32x32 RGB images labeled with an integer corresponding to 1 of 10 classes: airplane (0), automobile (1), bird (2), cat (3),deer (4), dog (5), frog (6), horse (7), ship (8), and truck (9)."
      ],
      "metadata": {
        "id": "glvo0g6vm61R"
      }
    },
    {
      "cell_type": "code",
      "source": [
        "data_path = '../data'\n",
        "cifar10 = datasets.CIFAR10(data_path, train=True, download=True,transform=transforms.ToTensor())\n",
        "cifar10_val = datasets.CIFAR10(data_path, train=False, download=True,transform=transforms.ToTensor())\n",
        "class_names=[\"airplane\", \"automobile\" ,\"bird\", \"cat\",\"deer\", \"dog\", \"frog\" , \"horse\" , \"ship\", \"truck\"]"
      ],
      "metadata": {
        "colab": {
          "base_uri": "https://localhost:8080/",
          "height": 101,
          "referenced_widgets": [
            "7f6fad5b9c984b038af9c266235c46cf",
            "8312bfe217964dae84b5df10051c468c",
            "7a1e8402f0ac4e72b1ed772c0491d225",
            "458af9f986c04e4abec1778aff9e4e8d",
            "ecf2701c3569452095fb98f64d5fbd6d",
            "de9e93fb29964981adc04daac6ed4ec8",
            "4ce1d3127e0f4fda8f457d96ad6674f0",
            "76c420e7de1f4929a869f2c893b9cdfb",
            "7b24ff156a3949c3bd16660a4ddbd201",
            "2beef67bb10d47789e1916e43f98329d",
            "daee4872fa824018bbf4215812f5bb69"
          ]
        },
        "id": "GQO_hmguj4J-",
        "outputId": "7058834f-5253-429f-d7f4-cd8fb451d209"
      },
      "execution_count": 4,
      "outputs": [
        {
          "output_type": "stream",
          "name": "stdout",
          "text": [
            "Downloading https://www.cs.toronto.edu/~kriz/cifar-10-python.tar.gz to ../data/cifar-10-python.tar.gz\n"
          ]
        },
        {
          "output_type": "display_data",
          "data": {
            "text/plain": [
              "  0%|          | 0/170498071 [00:00<?, ?it/s]"
            ],
            "application/vnd.jupyter.widget-view+json": {
              "version_major": 2,
              "version_minor": 0,
              "model_id": "7f6fad5b9c984b038af9c266235c46cf"
            }
          },
          "metadata": {}
        },
        {
          "output_type": "stream",
          "name": "stdout",
          "text": [
            "Extracting ../data/cifar-10-python.tar.gz to ../data\n",
            "Files already downloaded and verified\n"
          ]
        }
      ]
    },
    {
      "cell_type": "code",
      "source": [
        "len(cifar10),len(cifar10_val),cifar10.__len__"
      ],
      "metadata": {
        "colab": {
          "base_uri": "https://localhost:8080/"
        },
        "id": "jDUYRnTHoamP",
        "outputId": "f434527b-15e5-4e0f-8a49-c5dfedc3f61d"
      },
      "execution_count": 5,
      "outputs": [
        {
          "output_type": "execute_result",
          "data": {
            "text/plain": [
              "(50000, 10000, <bound method CIFAR10.__len__ of Dataset CIFAR10\n",
              "     Number of datapoints: 50000\n",
              "     Root location: ../data\n",
              "     Split: Train\n",
              "     StandardTransform\n",
              " Transform: ToTensor()>)"
            ]
          },
          "metadata": {},
          "execution_count": 5
        }
      ]
    },
    {
      "cell_type": "markdown",
      "source": [
        "##### Separate images from labels"
      ],
      "metadata": {
        "id": "K_EkmbrEvSPj"
      }
    },
    {
      "cell_type": "code",
      "source": [
        " all_imgs=torch.stack([img for img,_ in cifar10],dim=3)"
      ],
      "metadata": {
        "id": "zzGpyDsNHkXO"
      },
      "execution_count": 6,
      "outputs": []
    },
    {
      "cell_type": "markdown",
      "source": [
        "##### Some tests"
      ],
      "metadata": {
        "id": "yJ7AIG1nvgHr"
      }
    },
    {
      "cell_type": "code",
      "source": [
        "index=93\n",
        "plt.imshow(all_imgs[:,:,:,index].permute(1,2,0))\n",
        "print(class_names[cifar10[index][1]])"
      ],
      "metadata": {
        "id": "nybxnUjWut5Y",
        "outputId": "9a18c1a9-e436-4ef1-8d96-0b69c5a2eef2",
        "colab": {
          "base_uri": "https://localhost:8080/",
          "height": 283
        }
      },
      "execution_count": 7,
      "outputs": [
        {
          "output_type": "stream",
          "name": "stdout",
          "text": [
            "airplane\n"
          ]
        },
        {
          "output_type": "display_data",
          "data": {
            "text/plain": [
              "<Figure size 432x288 with 1 Axes>"
            ],
            "image/png": "[encoded data removed]"
          },
          "metadata": {
            "needs_background": "light"
          }
        }
      ]
    },
    {
      "cell_type": "markdown",
      "source": [
        "### Normalizing data"
      ],
      "metadata": {
        "id": "v_xGiSKMtU3_"
      }
    },
    {
      "cell_type": "code",
      "source": [
        "mean=all_imgs.view(3,-1).mean(dim=1)\n",
        "std=all_imgs.view(3,-1).std(dim=1)\n",
        "print(mean,std)\n",
        "transformed_cifar10=datasets.CIFAR10(data_path,train=True,download=False,transform=transforms.Compose([transforms.ToTensor(),transforms.Normalize(mean=mean,std=std)]))\n",
        "transformed_cifar10_val=datasets.CIFAR10(data_path,train=False,download=False,transform=transforms.Compose([transforms.ToTensor(),transforms.Normalize(mean=mean,std=std)]))"
      ],
      "metadata": {
        "id": "hnQ8EzVHtZq4",
        "outputId": "56aa33fb-69df-4699-aea0-6149c9f3409e",
        "colab": {
          "base_uri": "https://localhost:8080/"
        }
      },
      "execution_count": 8,
      "outputs": [
        {
          "output_type": "stream",
          "name": "stdout",
          "text": [
            "tensor([0.4914, 0.4822, 0.4465]) tensor([0.2470, 0.2435, 0.2616])\n"
          ]
        }
      ]
    },
    {
      "cell_type": "markdown",
      "source": [
        "##### Some tests"
      ],
      "metadata": {
        "id": "2zkSERdWw_DU"
      }
    },
    {
      "cell_type": "code",
      "source": [
        "img_t,label=transformed_cifar10[index]\n",
        "plt.imshow(img_t.permute(1,2,0)),class_names[label]"
      ],
      "metadata": {
        "id": "0QUgG8XYxAys",
        "outputId": "5421dcec-d4c3-4e78-a4e7-c5ac5d0fb36f",
        "colab": {
          "base_uri": "https://localhost:8080/",
          "height": 301
        }
      },
      "execution_count": 9,
      "outputs": [
        {
          "output_type": "stream",
          "name": "stderr",
          "text": [
            "Clipping input data to the valid range for imshow with RGB data ([0..1] for floats or [0..255] for integers).\n"
          ]
        },
        {
          "output_type": "execute_result",
          "data": {
            "text/plain": [
              "(<matplotlib.image.AxesImage at 0x7fdff8c4f550>, 'airplane')"
            ]
          },
          "metadata": {},
          "execution_count": 9
        },
        {
          "output_type": "display_data",
          "data": {
            "text/plain": [
              "<Figure size 432x288 with 1 Axes>"
            ],
            "image/png": "[encoded data removed]"
          },
          "metadata": {
            "needs_background": "light"
          }
        }
      ]
    },
    {
      "cell_type": "markdown",
      "source": [
        "### Extracting birds and airplanes data"
      ],
      "metadata": {
        "id": "PRlY8WLGx9qQ"
      }
    },
    {
      "cell_type": "code",
      "source": [
        "# class_names[0] --> airplane\n",
        "# class_names[2] --> bird\n",
        "labels=['airplane','bird']\n",
        "cifar2=[(img,4%(label+1)) for img,label in transformed_cifar10 if label in [0,2]]\n",
        "cifar2_val=[(img,4%(label+1)) for img,label in transformed_cifar10_val if label in [0,2]]"
      ],
      "metadata": {
        "id": "zCyIH6PKKAcj"
      },
      "execution_count": 10,
      "outputs": []
    },
    {
      "cell_type": "markdown",
      "source": [
        "##### Some tests:"
      ],
      "metadata": {
        "id": "JWOcowN90Xes"
      }
    },
    {
      "cell_type": "code",
      "source": [
        "index=35\n",
        "print(len(cifar2),len(cifar2_val))\n",
        "plt.imshow(cifar2[index][0].permute(1,2,0)),labels[cifar2[index][1]]"
      ],
      "metadata": {
        "id": "ro3Ol9jt0ax8",
        "outputId": "e4b28598-86a5-496a-900d-d3ad119cd61f",
        "colab": {
          "base_uri": "https://localhost:8080/",
          "height": 318
        }
      },
      "execution_count": 11,
      "outputs": [
        {
          "output_type": "stream",
          "name": "stderr",
          "text": [
            "Clipping input data to the valid range for imshow with RGB data ([0..1] for floats or [0..255] for integers).\n"
          ]
        },
        {
          "output_type": "stream",
          "name": "stdout",
          "text": [
            "10000 2000\n"
          ]
        },
        {
          "output_type": "execute_result",
          "data": {
            "text/plain": [
              "(<matplotlib.image.AxesImage at 0x7fdff8963750>, 'airplane')"
            ]
          },
          "metadata": {},
          "execution_count": 11
        },
        {
          "output_type": "display_data",
          "data": {
            "text/plain": [
              "<Figure size 432x288 with 1 Axes>"
            ],
            "image/png": "[encoded data removed]"
          },
          "metadata": {
            "needs_background": "light"
          }
        }
      ]
    },
    {
      "cell_type": "markdown",
      "source": [
        "### Building the Neural network 😊 \n"
      ],
      "metadata": {
        "id": "JwbIP1b-qlKb"
      }
    },
    {
      "cell_type": "code",
      "source": [
        "n_input=3*32*32\n",
        "n_out=2\n",
        "n_hidden=512\n",
        "model=nn.Sequential(\n",
        "    nn.Linear(n_input,2048),\n",
        "     nn.Tanh(),\n",
        "    nn.Linear(2048,1024),\n",
        "     nn.Tanh(),\n",
        "    nn.Linear(1024,512),\n",
        "     nn.Tanh(),\n",
        "    nn.Linear(512,128),\n",
        "    nn.Tanh(),\n",
        "    nn.Linear(128,n_out),\n",
        "    nn.LogSoftmax(dim=1)\n",
        ")"
      ],
      "metadata": {
        "id": "-VsCOcj5Naju"
      },
      "execution_count": 12,
      "outputs": []
    },
    {
      "cell_type": "code",
      "source": [
        "img,label=cifar2[0]\n",
        "plt.imshow(img.permute(1,2,0))\n",
        "plt.show()"
      ],
      "metadata": {
        "id": "kxEf_VwsOOxU",
        "outputId": "27a3e23c-2673-450a-9007-3eec0aa71ebd",
        "colab": {
          "base_uri": "https://localhost:8080/",
          "height": 283
        }
      },
      "execution_count": 12,
      "outputs": [
        {
          "output_type": "stream",
          "name": "stderr",
          "text": [
            "Clipping input data to the valid range for imshow with RGB data ([0..1] for floats or [0..255] for integers).\n"
          ]
        },
        {
          "output_type": "display_data",
          "data": {
            "text/plain": [
              "<Figure size 432x288 with 1 Axes>"
            ],
            "image/png": "[encoded data removed]"
          },
          "metadata": {
            "needs_background": "light"
          }
        }
      ]
    },
    {
      "cell_type": "code",
      "source": [
        "Loss=nn.NLLLoss()\n",
        "img_batch=img.view(-1).unsqueeze(0)\n",
        "img_batch.shape\n",
        "out=model(img_batch)\n",
        "y=Loss(out,torch.tensor([label]))\n",
        "out,y"
      ],
      "metadata": {
        "id": "FuDHfNEvQgE_",
        "outputId": "9fa48406-44a4-406a-fb78-fa5c74aa42c4",
        "colab": {
          "base_uri": "https://localhost:8080/"
        }
      },
      "execution_count": 13,
      "outputs": [
        {
          "output_type": "execute_result",
          "data": {
            "text/plain": [
              "(tensor([[-0.7893, -0.6055]], grad_fn=<LogSoftmaxBackward0>),\n",
              " tensor(0.6055, grad_fn=<NllLossBackward0>))"
            ]
          },
          "metadata": {},
          "execution_count": 13
        }
      ]
    },
    {
      "cell_type": "code",
      "source": [
        "learning_rate=1e-2\n",
        "loss_fn=nn.NLLLoss()\n",
        "optimizer=optim.SGD(model.parameters(),lr=learning_rate)\n",
        "train_loader = torch.utils.data.DataLoader(cifar2, batch_size=64,shuffle=True)\n",
        "val_loader = torch.utils.data.DataLoader(cifar2_val, batch_size=64,shuffle=False)\n",
        "n_epochs=100\n",
        "for epoch in range(n_epochs):\n",
        "  for imgs,labels in train_loader:\n",
        "    batch_size = imgs.shape[0]\n",
        "    out = model(imgs.view(batch_size, -1))\n",
        "    target=labels\n",
        "    loss=loss_fn(out,target)\n",
        "    optimizer.zero_grad()\n",
        "    loss.backward()\n",
        "    optimizer.step()\n",
        "  # for img,label in cifar2_val:\n",
        "  #   out=model(img.view(-1).unsqueeze(0))\n",
        "  #   target=torch.tensor([label])\n",
        "  #   loss_val=loss_fn(out,target)\n",
        "  print('epoch: %d loss: %f loss_val: %f'%(epoch+1,float(loss),float(loss_val)))"
      ],
      "metadata": {
        "id": "YF6zteh4Q2K8",
        "outputId": "7e27ac84-a69c-4ef3-f384-9161b44a9ace",
        "colab": {
          "base_uri": "https://localhost:8080/",
          "height": 381
        }
      },
      "execution_count": 14,
      "outputs": [
        {
          "output_type": "error",
          "ename": "KeyboardInterrupt",
          "evalue": "ignored",
          "traceback": [
            "\u001b[0;31m---------------------------------------------------------------------------\u001b[0m",
            "\u001b[0;31mKeyboardInterrupt\u001b[0m                         Traceback (most recent call last)",
            "\u001b[0;32m<ipython-input-14-33c78d71b27a>\u001b[0m in \u001b[0;36m<module>\u001b[0;34m()\u001b[0m\n\u001b[1;32m      8\u001b[0m   \u001b[0;32mfor\u001b[0m \u001b[0mimgs\u001b[0m\u001b[0;34m,\u001b[0m\u001b[0mlabels\u001b[0m \u001b[0;32min\u001b[0m \u001b[0mtrain_loader\u001b[0m\u001b[0;34m:\u001b[0m\u001b[0;34m\u001b[0m\u001b[0;34m\u001b[0m\u001b[0m\n\u001b[1;32m      9\u001b[0m     \u001b[0mbatch_size\u001b[0m \u001b[0;34m=\u001b[0m \u001b[0mimgs\u001b[0m\u001b[0;34m.\u001b[0m\u001b[0mshape\u001b[0m\u001b[0;34m[\u001b[0m\u001b[0;36m0\u001b[0m\u001b[0;34m]\u001b[0m\u001b[0;34m\u001b[0m\u001b[0;34m\u001b[0m\u001b[0m\n\u001b[0;32m---> 10\u001b[0;31m     \u001b[0mout\u001b[0m \u001b[0;34m=\u001b[0m \u001b[0mmodel\u001b[0m\u001b[0;34m(\u001b[0m\u001b[0mimgs\u001b[0m\u001b[0;34m.\u001b[0m\u001b[0mview\u001b[0m\u001b[0;34m(\u001b[0m\u001b[0mbatch_size\u001b[0m\u001b[0;34m,\u001b[0m \u001b[0;34m-\u001b[0m\u001b[0;36m1\u001b[0m\u001b[0;34m)\u001b[0m\u001b[0;34m)\u001b[0m\u001b[0;34m\u001b[0m\u001b[0;34m\u001b[0m\u001b[0m\n\u001b[0m\u001b[1;32m     11\u001b[0m     \u001b[0mtarget\u001b[0m\u001b[0;34m=\u001b[0m\u001b[0mlabels\u001b[0m\u001b[0;34m\u001b[0m\u001b[0;34m\u001b[0m\u001b[0m\n\u001b[1;32m     12\u001b[0m     \u001b[0mloss\u001b[0m\u001b[0;34m=\u001b[0m\u001b[0mloss_fn\u001b[0m\u001b[0;34m(\u001b[0m\u001b[0mout\u001b[0m\u001b[0;34m,\u001b[0m\u001b[0mtarget\u001b[0m\u001b[0;34m)\u001b[0m\u001b[0;34m\u001b[0m\u001b[0;34m\u001b[0m\u001b[0m\n",
            "\u001b[0;32m/usr/local/lib/python3.7/dist-packages/torch/nn/modules/module.py\u001b[0m in \u001b[0;36m_call_impl\u001b[0;34m(self, *input, **kwargs)\u001b[0m\n\u001b[1;32m   1128\u001b[0m         if not (self._backward_hooks or self._forward_hooks or self._forward_pre_hooks or _global_backward_hooks\n\u001b[1;32m   1129\u001b[0m                 or _global_forward_hooks or _global_forward_pre_hooks):\n\u001b[0;32m-> 1130\u001b[0;31m             \u001b[0;32mreturn\u001b[0m \u001b[0mforward_call\u001b[0m\u001b[0;34m(\u001b[0m\u001b[0;34m*\u001b[0m\u001b[0minput\u001b[0m\u001b[0;34m,\u001b[0m \u001b[0;34m**\u001b[0m\u001b[0mkwargs\u001b[0m\u001b[0;34m)\u001b[0m\u001b[0;34m\u001b[0m\u001b[0;34m\u001b[0m\u001b[0m\n\u001b[0m\u001b[1;32m   1131\u001b[0m         \u001b[0;31m# Do not call functions when jit is used\u001b[0m\u001b[0;34m\u001b[0m\u001b[0;34m\u001b[0m\u001b[0;34m\u001b[0m\u001b[0m\n\u001b[1;32m   1132\u001b[0m         \u001b[0mfull_backward_hooks\u001b[0m\u001b[0;34m,\u001b[0m \u001b[0mnon_full_backward_hooks\u001b[0m \u001b[0;34m=\u001b[0m \u001b[0;34m[\u001b[0m\u001b[0;34m]\u001b[0m\u001b[0;34m,\u001b[0m \u001b[0;34m[\u001b[0m\u001b[0;34m]\u001b[0m\u001b[0;34m\u001b[0m\u001b[0;34m\u001b[0m\u001b[0m\n",
            "\u001b[0;32m/usr/local/lib/python3.7/dist-packages/torch/nn/modules/container.py\u001b[0m in \u001b[0;36mforward\u001b[0;34m(self, input)\u001b[0m\n\u001b[1;32m    137\u001b[0m     \u001b[0;32mdef\u001b[0m \u001b[0mforward\u001b[0m\u001b[0;34m(\u001b[0m\u001b[0mself\u001b[0m\u001b[0;34m,\u001b[0m \u001b[0minput\u001b[0m\u001b[0;34m)\u001b[0m\u001b[0;34m:\u001b[0m\u001b[0;34m\u001b[0m\u001b[0;34m\u001b[0m\u001b[0m\n\u001b[1;32m    138\u001b[0m         \u001b[0;32mfor\u001b[0m \u001b[0mmodule\u001b[0m \u001b[0;32min\u001b[0m \u001b[0mself\u001b[0m\u001b[0;34m:\u001b[0m\u001b[0;34m\u001b[0m\u001b[0;34m\u001b[0m\u001b[0m\n\u001b[0;32m--> 139\u001b[0;31m             \u001b[0minput\u001b[0m \u001b[0;34m=\u001b[0m \u001b[0mmodule\u001b[0m\u001b[0;34m(\u001b[0m\u001b[0minput\u001b[0m\u001b[0;34m)\u001b[0m\u001b[0;34m\u001b[0m\u001b[0;34m\u001b[0m\u001b[0m\n\u001b[0m\u001b[1;32m    140\u001b[0m         \u001b[0;32mreturn\u001b[0m \u001b[0minput\u001b[0m\u001b[0;34m\u001b[0m\u001b[0;34m\u001b[0m\u001b[0m\n\u001b[1;32m    141\u001b[0m \u001b[0;34m\u001b[0m\u001b[0m\n",
            "\u001b[0;32m/usr/local/lib/python3.7/dist-packages/torch/nn/modules/module.py\u001b[0m in \u001b[0;36m_call_impl\u001b[0;34m(self, *input, **kwargs)\u001b[0m\n\u001b[1;32m   1128\u001b[0m         if not (self._backward_hooks or self._forward_hooks or self._forward_pre_hooks or _global_backward_hooks\n\u001b[1;32m   1129\u001b[0m                 or _global_forward_hooks or _global_forward_pre_hooks):\n\u001b[0;32m-> 1130\u001b[0;31m             \u001b[0;32mreturn\u001b[0m \u001b[0mforward_call\u001b[0m\u001b[0;34m(\u001b[0m\u001b[0;34m*\u001b[0m\u001b[0minput\u001b[0m\u001b[0;34m,\u001b[0m \u001b[0;34m**\u001b[0m\u001b[0mkwargs\u001b[0m\u001b[0;34m)\u001b[0m\u001b[0;34m\u001b[0m\u001b[0;34m\u001b[0m\u001b[0m\n\u001b[0m\u001b[1;32m   1131\u001b[0m         \u001b[0;31m# Do not call functions when jit is used\u001b[0m\u001b[0;34m\u001b[0m\u001b[0;34m\u001b[0m\u001b[0;34m\u001b[0m\u001b[0m\n\u001b[1;32m   1132\u001b[0m         \u001b[0mfull_backward_hooks\u001b[0m\u001b[0;34m,\u001b[0m \u001b[0mnon_full_backward_hooks\u001b[0m \u001b[0;34m=\u001b[0m \u001b[0;34m[\u001b[0m\u001b[0;34m]\u001b[0m\u001b[0;34m,\u001b[0m \u001b[0;34m[\u001b[0m\u001b[0;34m]\u001b[0m\u001b[0;34m\u001b[0m\u001b[0;34m\u001b[0m\u001b[0m\n",
            "\u001b[0;32m/usr/local/lib/python3.7/dist-packages/torch/nn/modules/linear.py\u001b[0m in \u001b[0;36mforward\u001b[0;34m(self, input)\u001b[0m\n\u001b[1;32m    112\u001b[0m \u001b[0;34m\u001b[0m\u001b[0m\n\u001b[1;32m    113\u001b[0m     \u001b[0;32mdef\u001b[0m \u001b[0mforward\u001b[0m\u001b[0;34m(\u001b[0m\u001b[0mself\u001b[0m\u001b[0;34m,\u001b[0m \u001b[0minput\u001b[0m\u001b[0;34m:\u001b[0m \u001b[0mTensor\u001b[0m\u001b[0;34m)\u001b[0m \u001b[0;34m->\u001b[0m \u001b[0mTensor\u001b[0m\u001b[0;34m:\u001b[0m\u001b[0;34m\u001b[0m\u001b[0;34m\u001b[0m\u001b[0m\n\u001b[0;32m--> 114\u001b[0;31m         \u001b[0;32mreturn\u001b[0m \u001b[0mF\u001b[0m\u001b[0;34m.\u001b[0m\u001b[0mlinear\u001b[0m\u001b[0;34m(\u001b[0m\u001b[0minput\u001b[0m\u001b[0;34m,\u001b[0m \u001b[0mself\u001b[0m\u001b[0;34m.\u001b[0m\u001b[0mweight\u001b[0m\u001b[0;34m,\u001b[0m \u001b[0mself\u001b[0m\u001b[0;34m.\u001b[0m\u001b[0mbias\u001b[0m\u001b[0;34m)\u001b[0m\u001b[0;34m\u001b[0m\u001b[0;34m\u001b[0m\u001b[0m\n\u001b[0m\u001b[1;32m    115\u001b[0m \u001b[0;34m\u001b[0m\u001b[0m\n\u001b[1;32m    116\u001b[0m     \u001b[0;32mdef\u001b[0m \u001b[0mextra_repr\u001b[0m\u001b[0;34m(\u001b[0m\u001b[0mself\u001b[0m\u001b[0;34m)\u001b[0m \u001b[0;34m->\u001b[0m \u001b[0mstr\u001b[0m\u001b[0;34m:\u001b[0m\u001b[0;34m\u001b[0m\u001b[0;34m\u001b[0m\u001b[0m\n",
            "\u001b[0;31mKeyboardInterrupt\u001b[0m: "
          ]
        }
      ]
    },
    {
      "cell_type": "code",
      "source": [
        "val_loader = torch.utils.data.DataLoader(cifar2_val, batch_size=64,shuffle=False)\n",
        "\n",
        "correct = 0\n",
        "total = 0\n",
        "with torch.no_grad():\n",
        "  for imgs, labels in val_loader:\n",
        "    batch_size = imgs.shape[0]\n",
        "    outputs = model(imgs.view(batch_size, -1))\n",
        "    _, predicted = torch.max(outputs, dim=1)\n",
        "    total += labels.shape[0]\n",
        "    correct += int((predicted == labels).sum())\n",
        "  print(\"Accuracy: %f\", correct / total)"
      ],
      "metadata": {
        "id": "Dc_7VffSBIWX"
      },
      "execution_count": null,
      "outputs": []
    },
    {
      "cell_type": "code",
      "source": [
        "numel_list=[p.numel() for p in model.parameters() if (p.requires_grad==True)]\n",
        "sum(numel_list),numel_list"
      ],
      "metadata": {
        "id": "_5yTWk-IV8u8"
      },
      "execution_count": null,
      "outputs": []
    },
    {
      "cell_type": "code",
      "source": [
        "loader = torch.utils.data.DataLoader(cifar2, batch_size=64,shuffle=False)\n",
        "\n",
        "correct = 0\n",
        "total = 0\n",
        "with torch.no_grad():\n",
        "  for imgs, labels in loader:\n",
        "    batch_size = imgs.shape[0]\n",
        "    outputs = model(imgs.view(batch_size, -1))\n",
        "    _, predicted = torch.max(outputs, dim=1)\n",
        "    total += labels.shape[0]\n",
        "    correct += int((predicted == labels).sum())\n",
        "  print(\"Accuracy: %f\", correct / total)"
      ],
      "metadata": {
        "id": "40WQCQaZZguh"
      },
      "execution_count": null,
      "outputs": []
    },
    {
      "cell_type": "code",
      "source": [
        "conv=nn.Conv2d(3,16,kernel_size=5,padding=2)\n",
        "conv"
      ],
      "metadata": {
        "id": "orckkdtJiO9Z",
        "outputId": "b74f0ce9-6d95-43e3-cf2e-9f64eaf8a360",
        "colab": {
          "base_uri": "https://localhost:8080/"
        }
      },
      "execution_count": 13,
      "outputs": [
        {
          "output_type": "execute_result",
          "data": {
            "text/plain": [
              "Conv2d(3, 16, kernel_size=(5, 5), stride=(1, 1), padding=(2, 2))"
            ]
          },
          "metadata": {},
          "execution_count": 13
        }
      ]
    },
    {
      "cell_type": "code",
      "source": [
        "conv.weight.shape,conv.bias.shape"
      ],
      "metadata": {
        "id": "NIbRcGuNxeuj",
        "outputId": "1c2da4b8-3929-482f-c380-e38abbcf2466",
        "colab": {
          "base_uri": "https://localhost:8080/"
        }
      },
      "execution_count": 14,
      "outputs": [
        {
          "output_type": "execute_result",
          "data": {
            "text/plain": [
              "(torch.Size([16, 3, 5, 5]), torch.Size([16]))"
            ]
          },
          "metadata": {},
          "execution_count": 14
        }
      ]
    },
    {
      "cell_type": "code",
      "source": [
        "img,_=cifar2[0]\n",
        "plt.imshow(img.permute(1,2,0))\n",
        "img_c=conv(img.unsqueeze(0))\n",
        "img_c.shape"
      ],
      "metadata": {
        "id": "NdHkXpBdy4Mh",
        "outputId": "11b2ada8-3d57-4ea4-d46a-f24c799bed1d",
        "colab": {
          "base_uri": "https://localhost:8080/",
          "height": 301
        }
      },
      "execution_count": 15,
      "outputs": [
        {
          "output_type": "stream",
          "name": "stderr",
          "text": [
            "Clipping input data to the valid range for imshow with RGB data ([0..1] for floats or [0..255] for integers).\n"
          ]
        },
        {
          "output_type": "execute_result",
          "data": {
            "text/plain": [
              "torch.Size([1, 16, 32, 32])"
            ]
          },
          "metadata": {},
          "execution_count": 15
        },
        {
          "output_type": "display_data",
          "data": {
            "text/plain": [
              "<Figure size 432x288 with 1 Axes>"
            ],
            "image/png": "[encoded data removed]"
          },
          "metadata": {
            "needs_background": "light"
          }
        }
      ]
    },
    {
      "cell_type": "code",
      "source": [
        "with torch.no_grad():\n",
        "  conv.bias.zero_()\n",
        "  conv.weight.fill_(1.0/9.0)\n",
        "img_c=conv(img.unsqueeze(0))\n",
        "plt.imshow(img_c[0,0].detach(),cmap='gray')"
      ],
      "metadata": {
        "id": "Fi2m0AVIzb1x",
        "outputId": "4767bad0-19a2-40a8-b4ce-40807a6b16ab",
        "colab": {
          "base_uri": "https://localhost:8080/",
          "height": 283
        }
      },
      "execution_count": 16,
      "outputs": [
        {
          "output_type": "execute_result",
          "data": {
            "text/plain": [
              "<matplotlib.image.AxesImage at 0x7fdff831a090>"
            ]
          },
          "metadata": {},
          "execution_count": 16
        },
        {
          "output_type": "display_data",
          "data": {
            "text/plain": [
              "<Figure size 432x288 with 1 Axes>"
            ],
            "image/png": "[encoded data removed]"
          },
          "metadata": {
            "needs_background": "light"
          }
        }
      ]
    },
    {
      "cell_type": "code",
      "source": [
        "img,_=cifar2[0]\n",
        "conv2=nn.Conv2d(3,1,kernel_size=3,padding=1)\n",
        "with torch.no_grad():\n",
        "  conv2.weight[:]=torch.tensor([[-1.0,0.0,1.0],[-1.0,0.0,1.0],[-1.0,0.0,1.0]])\n",
        "  conv2.bias.zero_()\n",
        "\n",
        "output=conv2(img.unsqueeze(0))\n",
        "plt.imshow(output[0,0].detach(),cmap='gray')"
      ],
      "metadata": {
        "id": "oL91_Bnm_KBz",
        "outputId": "6c8fb7a4-6d73-4ef0-dc62-159cb7e21189",
        "colab": {
          "base_uri": "https://localhost:8080/",
          "height": 283
        }
      },
      "execution_count": 17,
      "outputs": [
        {
          "output_type": "execute_result",
          "data": {
            "text/plain": [
              "<matplotlib.image.AxesImage at 0x7fdff8a0ce50>"
            ]
          },
          "metadata": {},
          "execution_count": 17
        },
        {
          "output_type": "display_data",
          "data": {
            "text/plain": [
              "<Figure size 432x288 with 1 Axes>"
            ],
            "image/png": "[encoded data removed]"
          },
          "metadata": {
            "needs_background": "light"
          }
        }
      ]
    },
    {
      "cell_type": "code",
      "source": [
        "pool=nn.MaxPool2d(2)\n",
        "img_p=pool(img.unsqueeze(0))\n",
        "img_c=conv2(img_p)\n",
        "plt.imshow(img_c[0,0].detach(),cmap='gray')\n",
        "img_p.shape,img_c.shape"
      ],
      "metadata": {
        "id": "KZ5ALW6LGOlD",
        "outputId": "54a2e699-395f-474c-8ed4-ed55debdb8b0",
        "colab": {
          "base_uri": "https://localhost:8080/",
          "height": 282
        }
      },
      "execution_count": 18,
      "outputs": [
        {
          "output_type": "execute_result",
          "data": {
            "text/plain": [
              "(torch.Size([1, 3, 16, 16]), torch.Size([1, 1, 16, 16]))"
            ]
          },
          "metadata": {},
          "execution_count": 18
        },
        {
          "output_type": "display_data",
          "data": {
            "text/plain": [
              "<Figure size 432x288 with 1 Axes>"
            ],
            "image/png": "[encoded data removed]"
          },
          "metadata": {
            "needs_background": "light"
          }
        }
      ]
    },
    {
      "cell_type": "code",
      "source": [
        "from torch.nn.modules.pooling import MaxPool2d\n",
        "model=nn.Sequential(\n",
        "    nn.Conv2d(3,16,kernel_size=3,padding=1),\n",
        "    nn.Tanh(),\n",
        "    nn.MaxPool2d(2),\n",
        "    nn.Conv2d(16,8,kernel_size=3,padding=1),\n",
        "    nn.Tanh(),\n",
        "    nn.MaxPool2d(2),\n",
        "    nn.Linear(8*8*8,32),\n",
        "    nn.Tanh(),\n",
        "    nn.Linear(32,2),\n",
        "    nn.Tanh()\n",
        ")"
      ],
      "metadata": {
        "id": "z10nG3xXGXu-"
      },
      "execution_count": 19,
      "outputs": []
    },
    {
      "cell_type": "code",
      "source": [
        "numel_list=[p.numel() for p in model.parameters()]\n",
        "sum(numel_list),numel_list"
      ],
      "metadata": {
        "id": "idkrr86ZLNbD",
        "outputId": "3b3bb6be-036a-4027-91cf-718b8b69bad8",
        "colab": {
          "base_uri": "https://localhost:8080/"
        }
      },
      "execution_count": 20,
      "outputs": [
        {
          "output_type": "execute_result",
          "data": {
            "text/plain": [
              "(18090, [432, 16, 1152, 8, 16384, 32, 64, 2])"
            ]
          },
          "metadata": {},
          "execution_count": 20
        }
      ]
    },
    {
      "cell_type": "code",
      "source": [
        "class Net(nn.Module):\n",
        "  def __init__(self):\n",
        "    super().__init__()\n",
        "    self.conv1 = nn.Conv2d(3, 16, kernel_size=3, padding=1)\n",
        "    self.act1 = nn.Tanh()\n",
        "    self.pool1 = nn.MaxPool2d(2)\n",
        "    self.conv2 = nn.Conv2d(16, 8, kernel_size=3, padding=1)\n",
        "    self.act2 = nn.Tanh()\n",
        "    self.pool2 = nn.MaxPool2d(2)\n",
        "    self.fc1 = nn.Linear(8 * 8 * 8, 32)\n",
        "    self.act3 = nn.Tanh()\n",
        "    self.fc2 = nn.Linear(32, 2)\n",
        "  \n",
        "  def forward(self,x):\n",
        "    out = self.pool1(self.act1(self.conv1(x)))\n",
        "    out = self.pool2(self.act2(self.conv2(out)))\n",
        "    out = out.view(-1, 8 * 8 * 8)\n",
        "    out = self.act3(self.fc1(out))\n",
        "    out = self.fc2(out)\n",
        "    return out\n",
        "    \n",
        "\n"
      ],
      "metadata": {
        "id": "yBpChgUZP6Sv"
      },
      "execution_count": 21,
      "outputs": []
    },
    {
      "cell_type": "code",
      "source": [
        "model=Net()\n",
        "numel_list=[p.numel() for p in model.parameters()]\n",
        "sum(numel_list),numel_list\n"
      ],
      "metadata": {
        "id": "1JfnMqQheQSb",
        "outputId": "6a2c81cd-b4a7-4509-e87c-1f075d765840",
        "colab": {
          "base_uri": "https://localhost:8080/"
        }
      },
      "execution_count": 22,
      "outputs": [
        {
          "output_type": "execute_result",
          "data": {
            "text/plain": [
              "(18090, [432, 16, 1152, 8, 16384, 32, 64, 2])"
            ]
          },
          "metadata": {},
          "execution_count": 22
        }
      ]
    },
    {
      "cell_type": "code",
      "source": [
        "class Net(nn.Module):\n",
        "  def __init__(self):\n",
        "    super().__init__()\n",
        "    self.conv1=nn.Conv2d(3,30,kernel_size=3,padding=1)\n",
        "    self.conv1_dropout = nn.Dropout2d(p=0.4)\n",
        "    self.conv2=nn.Conv2d(30,8,kernel_size=3,padding=1)\n",
        "    self.conv2_dropout = nn.Dropout2d(p=0.4)\n",
        "    self.linear1=nn.Linear(8*8*8,32)\n",
        "    self.linear2=nn.Linear(32,2)\n",
        "  def forward(self,x):\n",
        "    out=nn.functional.max_pool2d(torch.tanh(self.conv1(x)),2)\n",
        "    out=self.conv1_dropout(out)\n",
        "    out=nn.functional.max_pool2d(torch.tanh(self.conv2(out)),2)\n",
        "    out=self.conv2_dropout(out)\n",
        "    out=out.view(-1,8*8*8)\n",
        "    out=torch.tanh(self.linear1(out))\n",
        "    out=self.linear2(out)\n",
        "    return out"
      ],
      "metadata": {
        "id": "j8fMr-ing17O"
      },
      "execution_count": 46,
      "outputs": []
    },
    {
      "cell_type": "code",
      "source": [
        "model=Net()\n",
        "out=model(img.unsqueeze(0))\n",
        "out"
      ],
      "metadata": {
        "id": "iIX-PZptiCF9",
        "outputId": "ed2bbe43-b5d3-4d92-96b9-2925a8a88eb5",
        "colab": {
          "base_uri": "https://localhost:8080/"
        }
      },
      "execution_count": 37,
      "outputs": [
        {
          "output_type": "execute_result",
          "data": {
            "text/plain": [
              "tensor([[-0.1358, -0.0654]], grad_fn=<AddmmBackward0>)"
            ]
          },
          "metadata": {},
          "execution_count": 37
        }
      ]
    },
    {
      "cell_type": "code",
      "source": [
        "\n",
        "\n",
        "import datetime"
      ],
      "metadata": {
        "id": "95jjXsCGiHOP"
      },
      "execution_count": 25,
      "outputs": []
    },
    {
      "cell_type": "code",
      "source": [
        "\n",
        "def training_loop(n_epochs,optimizer,model,loss_fn,train_loader):\n",
        "  for i in range(1,n_epochs+1):\n",
        "    loss_train=0.0\n",
        "    for imgs,labels in train_loader:\n",
        "      imgs=imgs.to(device=\"cuda\")\n",
        "      labels=labels.to(device='cuda')\n",
        "      outputs=model(imgs)\n",
        "      loss=loss_fn(outputs,labels)\n",
        "      l2_lambda = 0.001\n",
        "      l2_norm = sum(p.pow(2.0).sum() for p in model.parameters())\n",
        "      loss = loss + l2_lambda * l2_norm\n",
        "      optimizer.zero_grad()\n",
        "      loss.backward()\n",
        "      optimizer.step()\n",
        "      loss_train+=loss.item()\n",
        "    if i==1 or i%10==0:\n",
        "      print('{} Epoch: {} Training Loss: {}'.format(datetime.datetime.now(),i,loss_train/len(train_loader)))\n",
        "\n"
      ],
      "metadata": {
        "id": "4Oh5Vl9zfe-L"
      },
      "execution_count": 47,
      "outputs": []
    },
    {
      "cell_type": "code",
      "source": [
        "\n",
        "model=Net().to(device=\"cuda\")\n",
        "# model.cuda()\n",
        "train_loader=torch.utils.data.DataLoader(cifar2,batch_size=64,shuffle=True)\n",
        "optimizer=optim.SGD(model.parameters(),lr=1e-2)\n",
        "loss_fn=nn.CrossEntropyLoss()\n",
        "\n",
        "training_loop(500,optimizer=optimizer,model=model,loss_fn=loss_fn,train_loader=train_loader)"
      ],
      "metadata": {
        "id": "goC_2Kk1g3RT",
        "outputId": "55387274-ebd1-4825-f1f0-7a7456fbd5be",
        "colab": {
          "base_uri": "https://localhost:8080/"
        }
      },
      "execution_count": 48,
      "outputs": [
        {
          "output_type": "stream",
          "name": "stdout",
          "text": [
            "2022-08-08 01:07:35.499114 Epoch: 1 Training Loss: 0.6075721608985002\n",
            "2022-08-08 01:07:40.658501 Epoch: 10 Training Loss: 0.4231931126801072\n",
            "2022-08-08 01:07:46.416497 Epoch: 20 Training Loss: 0.39371905044005934\n",
            "2022-08-08 01:07:51.947378 Epoch: 30 Training Loss: 0.38312316624222287\n",
            "2022-08-08 01:07:57.441410 Epoch: 40 Training Loss: 0.3748724248948371\n",
            "2022-08-08 01:08:02.978709 Epoch: 50 Training Loss: 0.3658756157205363\n",
            "2022-08-08 01:08:08.493336 Epoch: 60 Training Loss: 0.3564573784542691\n",
            "2022-08-08 01:08:13.902967 Epoch: 70 Training Loss: 0.34737690694772516\n",
            "2022-08-08 01:08:19.395948 Epoch: 80 Training Loss: 0.3401486822374307\n",
            "2022-08-08 01:08:24.878371 Epoch: 90 Training Loss: 0.33739198772770584\n",
            "2022-08-08 01:08:30.303308 Epoch: 100 Training Loss: 0.32025001259746066\n",
            "2022-08-08 01:08:35.744788 Epoch: 110 Training Loss: 0.3175843946493355\n",
            "2022-08-08 01:08:41.203397 Epoch: 120 Training Loss: 0.31570361715972806\n",
            "2022-08-08 01:08:47.320166 Epoch: 130 Training Loss: 0.308517447892268\n",
            "2022-08-08 01:08:52.803203 Epoch: 140 Training Loss: 0.297499332648174\n",
            "2022-08-08 01:08:58.660624 Epoch: 150 Training Loss: 0.30069828261235715\n",
            "2022-08-08 01:09:04.151315 Epoch: 160 Training Loss: 0.2952224403429943\n",
            "2022-08-08 01:09:09.627206 Epoch: 170 Training Loss: 0.29455471494395263\n",
            "2022-08-08 01:09:15.139284 Epoch: 180 Training Loss: 0.28544218525005755\n",
            "2022-08-08 01:09:20.622251 Epoch: 190 Training Loss: 0.2803710981918748\n",
            "2022-08-08 01:09:26.070779 Epoch: 200 Training Loss: 0.2809433349568373\n",
            "2022-08-08 01:09:31.547107 Epoch: 210 Training Loss: 0.2824323627219838\n",
            "2022-08-08 01:09:37.018534 Epoch: 220 Training Loss: 0.27135069098821873\n",
            "2022-08-08 01:09:42.510965 Epoch: 230 Training Loss: 0.2749609529592429\n",
            "2022-08-08 01:09:47.909471 Epoch: 240 Training Loss: 0.2707868688235617\n",
            "2022-08-08 01:09:53.399449 Epoch: 250 Training Loss: 0.2674547941631572\n",
            "2022-08-08 01:09:58.889050 Epoch: 260 Training Loss: 0.26479518489473186\n",
            "2022-08-08 01:10:04.340707 Epoch: 270 Training Loss: 0.268749289262067\n",
            "2022-08-08 01:10:09.853495 Epoch: 280 Training Loss: 0.26249543686581267\n",
            "2022-08-08 01:10:15.774923 Epoch: 290 Training Loss: 0.2577636881618743\n",
            "2022-08-08 01:10:21.254439 Epoch: 300 Training Loss: 0.2595817017707096\n",
            "2022-08-08 01:10:26.799719 Epoch: 310 Training Loss: 0.2546879105317365\n",
            "2022-08-08 01:10:32.317849 Epoch: 320 Training Loss: 0.2534781523570893\n",
            "2022-08-08 01:10:37.863764 Epoch: 330 Training Loss: 0.256075973533521\n",
            "2022-08-08 01:10:43.332930 Epoch: 340 Training Loss: 0.24747642884208898\n",
            "2022-08-08 01:10:48.844466 Epoch: 350 Training Loss: 0.24672292457644346\n",
            "2022-08-08 01:10:54.377779 Epoch: 360 Training Loss: 0.24284020721153088\n",
            "2022-08-08 01:10:59.939340 Epoch: 370 Training Loss: 0.2487888534547417\n",
            "2022-08-08 01:11:05.432331 Epoch: 380 Training Loss: 0.24402677842006562\n",
            "2022-08-08 01:11:10.980867 Epoch: 390 Training Loss: 0.24440706004003052\n",
            "2022-08-08 01:11:16.555500 Epoch: 400 Training Loss: 0.24473339442614536\n",
            "2022-08-08 01:11:22.150490 Epoch: 410 Training Loss: 0.24092105315749052\n",
            "2022-08-08 01:11:27.607180 Epoch: 420 Training Loss: 0.23861888193400801\n",
            "2022-08-08 01:11:33.611793 Epoch: 430 Training Loss: 0.24013151086060106\n",
            "2022-08-08 01:11:39.165743 Epoch: 440 Training Loss: 0.23652997945144677\n",
            "2022-08-08 01:11:44.712108 Epoch: 450 Training Loss: 0.23286325830942506\n",
            "2022-08-08 01:11:50.136998 Epoch: 460 Training Loss: 0.2455347667264331\n",
            "2022-08-08 01:11:55.647980 Epoch: 470 Training Loss: 0.2346412735949656\n",
            "2022-08-08 01:12:01.134297 Epoch: 480 Training Loss: 0.23558526861060197\n",
            "2022-08-08 01:12:06.663017 Epoch: 490 Training Loss: 0.23227681523295723\n",
            "2022-08-08 01:12:12.190974 Epoch: 500 Training Loss: 0.23463995773701152\n"
          ]
        }
      ]
    },
    {
      "cell_type": "code",
      "source": [
        "train_loader = torch.utils.data.DataLoader(cifar2, batch_size=64,\n",
        "shuffle=False)\n",
        "val_loader = torch.utils.data.DataLoader(cifar2_val, batch_size=64,\n",
        "shuffle=False)\n",
        "def validate(model, train_loader, val_loader):\n",
        "  for name, loader in [(\"train\", train_loader), (\"val\", val_loader)]:\n",
        "    correct = 0\n",
        "    total = 0\n",
        "    with torch.no_grad():\n",
        "      for imgs, labels in loader:\n",
        "        imgs=imgs.to(device=\"cuda\")\n",
        "        labels=labels.to(device=\"cuda\")\n",
        "        outputs = model(imgs)\n",
        "        _, predicted = torch.max(outputs, dim=1)\n",
        "        total += labels.shape[0]\n",
        "        correct += int((predicted == labels).sum())\n",
        "    print(\"Accuracy {}: {:.2f}\".format(name , correct / total))\n",
        "validate(model, train_loader, val_loader)\n"
      ],
      "metadata": {
        "id": "NU39D8-mjAve",
        "outputId": "e6ab1018-ef0d-48df-eeab-d00a578e92f0",
        "colab": {
          "base_uri": "https://localhost:8080/"
        }
      },
      "execution_count": 49,
      "outputs": [
        {
          "output_type": "stream",
          "name": "stdout",
          "text": [
            "Accuracy train: 0.93\n",
            "Accuracy val: 0.88\n"
          ]
        }
      ]
    },
    {
      "cell_type": "code",
      "source": [
        "torch.save(model.state_dict(), data_path + 'birds_vs_airplanes.pt')"
      ],
      "metadata": {
        "id": "Z9N8BxKgj1B8"
      },
      "execution_count": 29,
      "outputs": []
    },
    {
      "cell_type": "code",
      "source": [
        "loaded_model = Net()\n",
        "loaded_model.load_state_dict(torch.load(data_path+ 'birds_vs_airplanes.pt'))\n",
        "loaded_model(img.unsqueeze(0))"
      ],
      "metadata": {
        "id": "xpy2rvLrj2xE",
        "outputId": "2bea7f9c-8449-4b8e-fb04-f2b03ca9b3bf",
        "colab": {
          "base_uri": "https://localhost:8080/"
        }
      },
      "execution_count": 34,
      "outputs": [
        {
          "output_type": "execute_result",
          "data": {
            "text/plain": [
              "tensor([[-4.0399,  4.1984]], grad_fn=<AddmmBackward0>)"
            ]
          },
          "metadata": {},
          "execution_count": 34
        }
      ]
    },
    {
      "cell_type": "code",
      "source": [
        "device=[torch.device('cuda') if torch.cuda.is_available() else torch.device('cpu')]\n",
        "print(f'training on device {device}')"
      ],
      "metadata": {
        "id": "W38CV1G1xbj6",
        "outputId": "90e98e8e-e247-48b1-ef70-2c400ecb89e2",
        "colab": {
          "base_uri": "https://localhost:8080/"
        }
      },
      "execution_count": 33,
      "outputs": [
        {
          "output_type": "stream",
          "name": "stdout",
          "text": [
            "training on device [device(type='cuda')]\n"
          ]
        }
      ]
    },
    {
      "cell_type": "code",
      "source": [
        ""
      ],
      "metadata": {
        "id": "hGhpgwxyz3ZC"
      },
      "execution_count": 31,
      "outputs": []
    }
  ]
}